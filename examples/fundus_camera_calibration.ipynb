{
 "cells": [
  {
   "cell_type": "markdown",
   "metadata": {},
   "source": [
    "# Determine fundus camera model constants from calibration measurements\n",
    "\n",
    "The focal length of the camera's condenser lens ($f_{cond}$) and the first order calibration term ($a_1$) are determined from measurements with an optical eye model. "
   ]
  },
  {
   "cell_type": "code",
   "execution_count": 1,
   "metadata": {
    "ExecuteTime": {
     "end_time": "2024-01-03T12:36:23.359127Z",
     "start_time": "2024-01-03T12:36:19.457441500Z"
    },
    "execution": {
     "iopub.execute_input": "2024-01-04T10:33:58.207283Z",
     "iopub.status.busy": "2024-01-04T10:33:58.207283Z",
     "iopub.status.idle": "2024-01-04T10:33:59.868809Z",
     "shell.execute_reply": "2024-01-04T10:33:59.868809Z"
    }
   },
   "outputs": [],
   "source": [
    "from __future__ import annotations\n",
    "\n",
    "import numpy as np\n",
    "import matplotlib.pyplot as plt\n",
    "import pandas as pd\n",
    "import sympy as sp\n",
    "\n",
    "from scipy import optimize\n",
    "from typing import Callable, NamedTuple\n",
    "\n",
    "from PAROS import data, eyephantom, fundscale\n",
    "\n",
    "sp.init_printing(use_unicode=True)"
   ]
  },
  {
   "cell_type": "markdown",
   "metadata": {},
   "source": [
    "## Load all calibration experiments"
   ]
  },
  {
   "cell_type": "code",
   "execution_count": 2,
   "metadata": {
    "ExecuteTime": {
     "end_time": "2024-01-03T12:36:23.371761Z",
     "start_time": "2024-01-03T12:36:23.361126100Z"
    },
    "execution": {
     "iopub.execute_input": "2024-01-04T10:33:59.870808Z",
     "iopub.status.busy": "2024-01-04T10:33:59.870808Z",
     "iopub.status.idle": "2024-01-04T10:33:59.878944Z",
     "shell.execute_reply": "2024-01-04T10:33:59.878944Z"
    }
   },
   "outputs": [
    {
     "name": "stdout",
     "output_type": "stream",
     "text": [
      "Number of calibration experiments: 9\n"
     ]
    }
   ],
   "source": [
    "lens_file = data.get_lens_data(\"phantom\")\n",
    "\n",
    "calibration_file = data.get_camera_calibration_data(\"Topcon\", \"TRC_50DX\")\n",
    "\n",
    "print(f\"Number of calibration experiments: {len(calibration_file)}\")"
   ]
  },
  {
   "cell_type": "markdown",
   "metadata": {},
   "source": [
    "## Calculate magnifications\n",
    "\n",
    "Determine the magnification for all experiments and prepare the data for fitting."
   ]
  },
  {
   "cell_type": "code",
   "execution_count": 3,
   "metadata": {
    "ExecuteTime": {
     "end_time": "2024-01-03T12:36:23.377517100Z",
     "start_time": "2024-01-03T12:36:23.371761Z"
    },
    "execution": {
     "iopub.execute_input": "2024-01-04T10:33:59.898950Z",
     "iopub.status.busy": "2024-01-04T10:33:59.897950Z",
     "iopub.status.idle": "2024-01-04T10:33:59.902359Z",
     "shell.execute_reply": "2024-01-04T10:33:59.902359Z"
    }
   },
   "outputs": [],
   "source": [
    "def get_ccd_size(\n",
    "    experiment: pd.Series, measurement: str = \"uncorrected_measurement\"\n",
    ") -> float:\n",
    "    \"\"\"Get the CCD size for `experiment`.\n",
    "\n",
    "    The size is obtained from the column `measurement`. Currently, this value\n",
    "    is returned as is, because the sizes in our DICOM viewer match with the image sizes\n",
    "    on the CCD.\n",
    "\n",
    "    Parameters\n",
    "    ----------\n",
    "    experiment : pandas.Series\n",
    "        `Series` with the calibration experiment data.\n",
    "    measurement : str\n",
    "        Column from which the CCD size is obtained. Defaults to 'uncorrected_measurement'.\n",
    "        Values from this column are assumed to be in millimeters.\n",
    "\n",
    "    Returns\n",
    "    -------\n",
    "    float\n",
    "        Size of the CCD, in meters.\n",
    "    \"\"\"\n",
    "    measured_size = experiment[measurement] * 1e-3\n",
    "\n",
    "    ccd_size = measured_size\n",
    "\n",
    "    return ccd_size\n",
    "\n",
    "\n",
    "def calculate_magnification(\n",
    "    experiment, measurement=\"uncorrected_measurement\", object_size: float = 10e-3\n",
    ") -> float:\n",
    "    \"\"\"Calculate the magnification of an object by the camera - phantom system.\n",
    "\n",
    "    The image size is obtained from the column `measurement`.\n",
    "\n",
    "    Parameters\n",
    "    ----------\n",
    "    experiment : pandas.Series\n",
    "        `Series` with the calibration experiment data.\n",
    "    measurement : str\n",
    "        Column from which the image size is obtained. Defaults to 'uncorrected_measurement'.\n",
    "        Values from this column are assumed to be in millimeters.\n",
    "    object_size : float\n",
    "        Size of the object, in millimeters.\n",
    "\n",
    "    Returns\n",
    "    -------\n",
    "    float\n",
    "        Measured magnification.\n",
    "    \"\"\"\n",
    "    ccd_size = get_ccd_size(experiment, measurement)\n",
    "    magnification = ccd_size / object_size\n",
    "\n",
    "    return magnification"
   ]
  },
  {
   "cell_type": "code",
   "execution_count": 4,
   "metadata": {
    "ExecuteTime": {
     "end_time": "2024-01-03T12:36:23.389321200Z",
     "start_time": "2024-01-03T12:36:23.378517200Z"
    },
    "execution": {
     "iopub.execute_input": "2024-01-04T10:33:59.904364Z",
     "iopub.status.busy": "2024-01-04T10:33:59.904364Z",
     "iopub.status.idle": "2024-01-04T10:33:59.909456Z",
     "shell.execute_reply": "2024-01-04T10:33:59.909456Z"
    }
   },
   "outputs": [],
   "source": [
    "def build_system_matrix(\n",
    "    camera: fundscale.Camera, experiment: pd.Series\n",
    ") -> tuple[sp.Matrix, eyephantom.EyePhantom]:\n",
    "    \"\"\"Build the ray transfer matrix for a camera - phantom system.\n",
    "\n",
    "    Parameters\n",
    "    ----------\n",
    "    camera : fundscale.Camera\n",
    "        Optical model of the fundus camera.\n",
    "    experiment : pandas.Series\n",
    "        Pandas `Series` with data for the calibration experiment.\n",
    "\n",
    "    Returns\n",
    "    -------\n",
    "    focused_system_matrix : sympy.Matrix\n",
    "        Ray transfer matrix for the focused camera - phantom system.\n",
    "    eye_phantom : eyephantom.EyePhantom\n",
    "        Optical model of the eye phantom.\n",
    "    \"\"\"\n",
    "    eye_phantom = eyephantom.EyePhantom(experiment, lens_file=lens_file)\n",
    "\n",
    "    system_matrix = (\n",
    "        camera.ray_transfer_matrix\n",
    "        * eye_phantom.ray_transfer_matrix_to_camera\n",
    "        * eye_phantom.ray_transfer_matrix\n",
    "    )\n",
    "\n",
    "    # Solve for a focused system (B = 0)\n",
    "    focus_lens_curvature = list(sp.solve(system_matrix[0, 1], camera.R_foc))[0]\n",
    "\n",
    "    focused_system_matrix = system_matrix.evalf(\n",
    "        subs=({camera.R_foc: focus_lens_curvature})\n",
    "    )\n",
    "\n",
    "    return focused_system_matrix, eye_phantom\n",
    "\n",
    "\n",
    "class PhantomData(NamedTuple):\n",
    "    \"\"\"Eye phantom and metadata.\"\"\"\n",
    "\n",
    "    experiment_number: int\n",
    "    optics_function: Callable\n",
    "    measured_magnification: float\n",
    "    focused_system_matrix: sp.Matrix\n",
    "    eye_phantom: eyephantom.EyePhantom\n",
    "\n",
    "\n",
    "def make_eye_phantoms(\n",
    "    experiment_file: pd.DataFrame,\n",
    "    camera: fundscale.Camera,\n",
    "    measurement: str = \"uncorrected_measurement\",\n",
    ") -> list[PhantomData]:\n",
    "    \"\"\"Create `PhantomData` objects for all experiments in `experiment_file`.\n",
    "\n",
    "    The column in `experiment_file` containing the measured image sizes is\n",
    "    specified by `measurement`.\n",
    "\n",
    "    Parameters\n",
    "    ----------\n",
    "    experiment_file : pandas.DataFrame\n",
    "        DataFrame with calibration experiments.\n",
    "    camera : fundscale.Camera\n",
    "        Optical model of the fundus camera.\n",
    "    measurement : str\n",
    "        Column containing the measured sizes, defaults to 'uncorrrected_measurement'.\n",
    "\n",
    "    Returns\n",
    "    -------\n",
    "    list[PhantomData]\n",
    "        List of `PhantomData` objects, containing the experiment number, function\n",
    "        for the system magnification, measured magnification, ray transfer matrix for the\n",
    "        focused system, and optical model of the eye phantom.\n",
    "    \"\"\"\n",
    "    phantoms = []\n",
    "\n",
    "    for _, experiment in experiment_file.iterrows():\n",
    "        focused_system_matrix, eye_phantom = build_system_matrix(camera, experiment)\n",
    "        magnification_equation = focused_system_matrix[0, 0]\n",
    "        optics_function = sp.lambdify(\n",
    "            (camera.F_cond, camera.a1), magnification_equation\n",
    "        )\n",
    "        measured_magnification = calculate_magnification(experiment, measurement)\n",
    "\n",
    "        phantoms.append(\n",
    "            PhantomData(\n",
    "                experiment.experiment_number,\n",
    "                optics_function,\n",
    "                measured_magnification,\n",
    "                focused_system_matrix,\n",
    "                eye_phantom,\n",
    "            )\n",
    "        )\n",
    "\n",
    "    return phantoms"
   ]
  },
  {
   "cell_type": "code",
   "execution_count": 5,
   "metadata": {
    "ExecuteTime": {
     "end_time": "2024-01-03T12:36:23.928443500Z",
     "start_time": "2024-01-03T12:36:23.390321800Z"
    },
    "execution": {
     "iopub.execute_input": "2024-01-04T10:33:59.911460Z",
     "iopub.status.busy": "2024-01-04T10:33:59.911460Z",
     "iopub.status.idle": "2024-01-04T10:34:00.403127Z",
     "shell.execute_reply": "2024-01-04T10:34:00.403127Z"
    }
   },
   "outputs": [],
   "source": [
    "camera = fundscale.Camera()\n",
    "eye_phantoms = make_eye_phantoms(calibration_file, camera)"
   ]
  },
  {
   "cell_type": "markdown",
   "metadata": {},
   "source": [
    "## perform fitting of F_cond and a1"
   ]
  },
  {
   "cell_type": "code",
   "execution_count": 6,
   "metadata": {
    "ExecuteTime": {
     "end_time": "2024-01-03T12:36:23.941333800Z",
     "start_time": "2024-01-03T12:36:23.933444600Z"
    },
    "execution": {
     "iopub.execute_input": "2024-01-04T10:34:00.405138Z",
     "iopub.status.busy": "2024-01-04T10:34:00.405138Z",
     "iopub.status.idle": "2024-01-04T10:34:00.410958Z",
     "shell.execute_reply": "2024-01-04T10:34:00.410958Z"
    }
   },
   "outputs": [
    {
     "name": "stdout",
     "output_type": "stream",
     "text": [
      "Fit result: \n",
      "  F_cond = 0.026\n",
      "  a1     = -0.010\n",
      "  loss   = 0.003\n"
     ]
    }
   ],
   "source": [
    "def calculate_magnification_for_all_phantoms(\n",
    "    f_cond: float, a1: float, phantoms: list[PhantomData]\n",
    ") -> list[tuple[float, float]]:\n",
    "    \"\"\"Calculate magnifications for all camera - phantom systems.\n",
    "\n",
    "    Parameters\n",
    "    ----------\n",
    "    f_cond : float\n",
    "        Focal length of the camera condenser lens, in meters.\n",
    "    a1 : float\n",
    "        First order correction term for the camera model.\n",
    "    phantoms : list[PhantomData]\n",
    "        System specifications for the camera - phantom systems.\n",
    "\n",
    "    Returns\n",
    "    -------\n",
    "    list[tuple[float, float]]\n",
    "        List of tuples with the calculated magnification and the measured magnification\n",
    "        for each camera - phantom system.\n",
    "    \"\"\"\n",
    "    magnifications = []\n",
    "\n",
    "    for _, optics_function, measured_magnification, *_ in phantoms:\n",
    "        magnification_fit = optics_function(f_cond, a1)\n",
    "        magnifications.append([magnification_fit, measured_magnification])\n",
    "\n",
    "    return magnifications\n",
    "\n",
    "\n",
    "def loss(x: np.ndarray[float], phantoms: list[PhantomData]) -> float:\n",
    "    \"\"\"Loss function to optimize a camera model.\n",
    "\n",
    "    `x` is a vector of the condenser lens focal length (f_cond) and the first order\n",
    "    correction term `a1`. The mean absolute difference between the real magnification\n",
    "    and the calculated magnification is calculated for all camera - phantom systems\n",
    "    in `phantoms`.\n",
    "\n",
    "    Parameters\n",
    "    ----------\n",
    "    x : NDArray[float]\n",
    "        Array of two elements: `f_cond` and `a1`.\n",
    "    phantoms : list[PhantomData]\n",
    "        Data and models for the camera - phantom systems.\n",
    "\n",
    "    Returns\n",
    "    -------\n",
    "    float\n",
    "        Mean absolute difference between the real magnification and calculated magnification.\n",
    "    \"\"\"\n",
    "    f_cond, a1 = x\n",
    "\n",
    "    magnifications = np.array(\n",
    "        calculate_magnification_for_all_phantoms(f_cond, a1, phantoms)\n",
    "    )\n",
    "    magnification_error = np.abs(np.abs(magnifications[:, 0]) - magnifications[:, 1])\n",
    "    total_error = np.sum(magnification_error) / len(magnification_error)\n",
    "\n",
    "    return total_error\n",
    "\n",
    "\n",
    "# Fit the values of f_cond and a1 on the calibration measurements\n",
    "f_cond_init = 0.030\n",
    "a1_init = -0.01\n",
    "fit_result = optimize.minimize(\n",
    "    loss, np.array([f_cond_init, a1_init]), eye_phantoms, method=\"Nelder-Mead\"\n",
    ")\n",
    "\n",
    "if not fit_result.success:\n",
    "    print(f\"Fit failed: {fit_result.message}\")\n",
    "else:\n",
    "    print(\n",
    "        \"Fit result: \\n\"\n",
    "        f\"  F_cond = {fit_result.x[0]:.3f}\\n\"\n",
    "        f\"  a1     = {fit_result.x[1]:.3f}\\n\"\n",
    "        f\"  loss   = {fit_result.fun:.3f}\"\n",
    "    )"
   ]
  },
  {
   "cell_type": "code",
   "execution_count": 7,
   "metadata": {
    "ExecuteTime": {
     "end_time": "2024-01-03T12:36:24.063461500Z",
     "start_time": "2024-01-03T12:36:23.940322700Z"
    },
    "execution": {
     "iopub.execute_input": "2024-01-04T10:34:00.411967Z",
     "iopub.status.busy": "2024-01-04T10:34:00.411967Z",
     "iopub.status.idle": "2024-01-04T10:34:00.504242Z",
     "shell.execute_reply": "2024-01-04T10:34:00.504242Z"
    },
    "scrolled": true
   },
   "outputs": [
    {
     "data": {
      "text/plain": [
       "Text(0, 0.5, 'Model magnification')"
      ]
     },
     "execution_count": 7,
     "metadata": {},
     "output_type": "execute_result"
    },
    {
     "data": {
      "image/png": "[encoded data removed]",
      "text/plain": [
       "<Figure size 640x480 with 1 Axes>"
      ]
     },
     "metadata": {},
     "output_type": "display_data"
    }
   ],
   "source": [
    "f_cond_fit, a1_fit = fit_result.x\n",
    "\n",
    "# Calculate phantom data for the fitted parameters\n",
    "phantom_fits = np.array(\n",
    "    calculate_magnification_for_all_phantoms(f_cond_fit, a1_fit, eye_phantoms)\n",
    ")\n",
    "\n",
    "# Plot phantom fit data\n",
    "plt.plot(phantom_fits[:, 1], np.abs(phantom_fits[:, 0]), \"x\", color=\"orange\")\n",
    "\n",
    "# Plot identity line\n",
    "plt.plot(xlim := plt.xlim(), xlim, color=\"lightblue\", zorder=0)\n",
    "\n",
    "plt.xlabel(\"Measured magnification\")\n",
    "plt.ylabel(\"Model magnification\")"
   ]
  }
 ],
 "metadata": {
  "kernelspec": {
   "display_name": "Python 3",
   "language": "python",
   "name": "python3"
  },
  "language_info": {
   "codemirror_mode": {
    "name": "ipython",
    "version": 3
   },
   "file_extension": ".py",
   "mimetype": "text/x-python",
   "name": "python",
   "nbconvert_exporter": "python",
   "pygments_lexer": "ipython3",
   "version": "3.11.5"
  }
 },
 "nbformat": 4,
 "nbformat_minor": 4
}
