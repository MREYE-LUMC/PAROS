{
 "cells": [
  {
   "cell_type": "markdown",
   "metadata": {
    "collapsed": false
   },
   "source": [
    "# Calculate the central magnification of an eye - camera system\n",
    "\n",
    "This notebook demonstrates how the `fundscale` module can be used to calculate the central magnification of an eye - camera system."
   ]
  },
  {
   "cell_type": "code",
   "execution_count": 1,
   "metadata": {
    "ExecuteTime": {
     "end_time": "2024-01-03T12:37:20.666115700Z",
     "start_time": "2024-01-03T12:37:19.872670Z"
    },
    "execution": {
     "iopub.execute_input": "2024-01-04T10:33:50.254787Z",
     "iopub.status.busy": "2024-01-04T10:33:50.254787Z",
     "iopub.status.idle": "2024-01-04T10:33:51.442890Z",
     "shell.execute_reply": "2024-01-04T10:33:51.442890Z"
    }
   },
   "outputs": [],
   "source": [
    "from dataclasses import dataclass\n",
    "\n",
    "import sympy as sp\n",
    "\n",
    "from PAROS import fundscale\n",
    "\n",
    "sp.init_printing(use_unicode=True)"
   ]
  },
  {
   "cell_type": "markdown",
   "metadata": {
    "collapsed": false
   },
   "source": [
    "## Camera definition\n",
    "\n",
    "Define the camera. The camera consists of a condenser lens and a focus lens. The condenser lens has a focal length of $f_{cond} = 0.026$ meters. The curvature of the focus lens is adjusted to create a focused image at the CCD, which is located at a distance of $f_{cond}$ from the condenser lens.\n",
    "Additionally, a first order correction term $a_1$ is included. Both $f_{cond}$ and $a_1$ are calibrated using a phantom."
   ]
  },
  {
   "cell_type": "code",
   "execution_count": 2,
   "metadata": {
    "ExecuteTime": {
     "end_time": "2024-01-03T12:37:21.183438200Z",
     "start_time": "2024-01-03T12:37:20.668116400Z"
    },
    "execution": {
     "iopub.execute_input": "2024-01-04T10:33:51.444907Z",
     "iopub.status.busy": "2024-01-04T10:33:51.444907Z",
     "iopub.status.idle": "2024-01-04T10:33:52.024806Z",
     "shell.execute_reply": "2024-01-04T10:33:52.024806Z"
    }
   },
   "outputs": [
    {
     "data": {
      "text/latex": [
       "$\\displaystyle \\left[\\begin{matrix}\\frac{0.000277723727 - 0.026347 R_{foc}}{R_{foc}^{2}} & 0.026347 - \\frac{0.000277723727}{R_{foc}}\\\\\\frac{- 37.9549853873306 R_{foc} - 1.0}{1.0 R_{foc} - 0.010541} & \\frac{1.0 R_{foc}}{1.0 R_{foc} - 0.010541}\\end{matrix}\\right]$"
      ],
      "text/plain": [
       "⎡0.000277723727 - 0.026347⋅R_foc             0.000277723727⎤\n",
       "⎢───────────────────────────────  0.026347 - ──────────────⎥\n",
       "⎢                  2                             R_foc     ⎥\n",
       "⎢             R_foc                                        ⎥\n",
       "⎢                                                          ⎥\n",
       "⎢ -37.9549853873306⋅R_foc - 1.0          1.0⋅R_foc         ⎥\n",
       "⎢ ─────────────────────────────     ────────────────────   ⎥\n",
       "⎣      1.0⋅R_foc - 0.010541         1.0⋅R_foc - 0.010541   ⎦"
      ]
     },
     "execution_count": 2,
     "metadata": {},
     "output_type": "execute_result"
    }
   ],
   "source": [
    "# define camera\n",
    "camera_f_cond = 0.026347\n",
    "camera_a1 = -0.010541\n",
    "\n",
    "camera = fundscale.Camera(F_cond=camera_f_cond, a1=camera_a1)\n",
    "camera_matrix = sp.simplify(camera.ray_transfer_matrix)\n",
    "camera_matrix"
   ]
  },
  {
   "cell_type": "markdown",
   "metadata": {
    "collapsed": false
   },
   "source": [
    "## Eye model definition\n",
    "\n",
    "Define the geometrical parameters of various eyes. The geometries are based on the Escudero-Sanz Navarro wide-field model."
   ]
  },
  {
   "cell_type": "code",
   "execution_count": 8,
   "metadata": {
    "ExecuteTime": {
     "end_time": "2024-01-03T12:37:21.189928300Z",
     "start_time": "2024-01-03T12:37:21.185437400Z"
    },
    "execution": {
     "iopub.execute_input": "2024-01-04T10:33:52.044453Z",
     "iopub.status.busy": "2024-01-04T10:33:52.044453Z",
     "iopub.status.idle": "2024-01-04T10:33:52.048252Z",
     "shell.execute_reply": "2024-01-04T10:33:52.048252Z"
    }
   },
   "outputs": [],
   "source": [
    "phakic_geometry = {\n",
    "    \"R_corF\": -7.799e-3,  # front corneal curvature\n",
    "    \"R_corB\": -6.317e-3,  # rear corneal curvature\n",
    "    \"R_lensF\": -10.20e-3,  # front lens curvature\n",
    "    \"R_lensB\": +6.00e-3,  # rear lens curvature\n",
    "    \"D_cor\": 0.592e-3,  # corneal thickness\n",
    "    \"D_ACD\": 2.71e-3,  # anterior chamber depth\n",
    "    \"D_lens\": 4.69e-3,  # lens thickness\n",
    "    \"D_vitr\": 15.428e-3,  # vitreous chamber depth\n",
    "    \"SE\": -0.25,  # spherical equivalent of refraction\n",
    "}\n",
    "\n",
    "iol_thickness = 1e-3\n",
    "\n",
    "iol_geometry = {\n",
    "    \"R_corF\": -7.72e-3,\n",
    "    \"R_corB\": -6.50e-3,\n",
    "    \"R_lensF\": -8.16e-3,\n",
    "    \"R_lensB\": +11.18e-3,\n",
    "    \"D_cor\": 0.55e-3,\n",
    "    \"D_ACD\": 3.05e-3,\n",
    "    \"D_lens\": 1e-3,  # thickness of the IOL\n",
    "    \"D_vitr\": 19.3203e-3,\n",
    "    \"SE\": 0,\n",
    "}\n",
    "\n",
    "piol_geometry = {\n",
    "    \"R_corF\": -7.72e-3,\n",
    "    \"R_corB\": -6.50e-3,\n",
    "    \"R_lensF\": -10.20e-3,\n",
    "    \"R_lensB\": +6.00e-3,\n",
    "    \"D_cor\": 0.55e-3,\n",
    "    \"D_ACD\": 2.35e-3,\n",
    "    \"D_lens\": 4.00e-3,\n",
    "    \"D_vitr\": 13.5303e-3,\n",
    "    \"SE\": 0,\n",
    "}\n",
    "\n",
    "# Definition of the pIOL\n",
    "piol_data = fundscale.PhakicIOL(\n",
    "    power=9,\n",
    "    thickness=0.2e-3,\n",
    "    refractive_index=1.47,\n",
    "    lens_distance=0.5e-3,\n",
    ")"
   ]
  },
  {
   "cell_type": "markdown",
   "metadata": {
    "collapsed": false
   },
   "source": [
    "Create eye models for the defined geometries, and fit the lens back surface to the specified spherical equivalent of refraction."
   ]
  },
  {
   "cell_type": "code",
   "execution_count": 9,
   "metadata": {
    "ExecuteTime": {
     "end_time": "2024-01-03T12:37:21.432213100Z",
     "start_time": "2024-01-03T12:37:21.189928300Z"
    },
    "execution": {
     "iopub.execute_input": "2024-01-04T10:33:52.050275Z",
     "iopub.status.busy": "2024-01-04T10:33:52.049268Z",
     "iopub.status.idle": "2024-01-04T10:33:52.274940Z",
     "shell.execute_reply": "2024-01-04T10:33:52.274940Z"
    }
   },
   "outputs": [],
   "source": [
    "@dataclass\n",
    "class MagnificationData:\n",
    "    magnification: float = None\n",
    "    lens_back_curvature: float = None\n",
    "    glasses_curvature: float = None\n",
    "    glasses_power: float = None\n",
    "    eye_model: fundscale.Eye = None\n",
    "\n",
    "    @classmethod\n",
    "    def calculate_from_eye_model(cls, eye: fundscale.Eye, refraction: float):\n",
    "        \"\"\"Calculate magnification data from an eye model.\n",
    "\n",
    "        Parameters\n",
    "        ----------\n",
    "        eye : fundScale.Eye\n",
    "            Eye model.\n",
    "        refraction : float\n",
    "            Spherical equivalent of refraction of the eye.\n",
    "\n",
    "        Returns\n",
    "        -------\n",
    "        MagnificationData\n",
    "            Magnification data of the eye.\n",
    "        \"\"\"\n",
    "        lens_back_curvature, glasses_curvature = eye.adjust_lens_back(\n",
    "            refraction, update_model=True\n",
    "        )\n",
    "        magnification, glasses_power, _ = fundscale.calculate_magnification(\n",
    "            phakic_eye, camera\n",
    "        )\n",
    "\n",
    "        return cls(\n",
    "            magnification, lens_back_curvature, glasses_curvature, glasses_power, eye\n",
    "        )\n",
    "\n",
    "    def __str__(self):\n",
    "        return (\n",
    "            f\"Magnification phakic eye model        : {abs(self.magnification):.2f}\\n\"\n",
    "            f\"Necessary correction at camera phakic : {self.glasses_power:.2f} D\\n\"\n",
    "            f\"Eye model                             : {self.eye_model}\"\n",
    "        )\n",
    "\n",
    "\n",
    "# Define a phakic eye model\n",
    "phakic_eye = fundscale.Eye(\n",
    "    name=\"phakic\",\n",
    "    geometry=phakic_geometry,\n",
    "    NType=\"Navarro\",\n",
    "    refraction=phakic_geometry[\"SE\"],\n",
    ")\n",
    "phakic_magnification_data = MagnificationData()\n",
    "# Fit the crystalline lens\n",
    "(\n",
    "    phakic_magnification_data.lens_back_curvature,\n",
    "    phakic_magnification_data.glasses_curvature,\n",
    ") = phakic_eye.adjust_lens_back(phakic_geometry[\"SE\"], update_model=True)\n",
    "\n",
    "# Define an eye model with an IOL\n",
    "iol_eye = fundscale.Eye(\n",
    "    name=\"IOL\",\n",
    "    geometry=iol_geometry,\n",
    "    model_type=\"VughtIOL\",\n",
    "    NType=\"VughtIOL\",\n",
    "    refraction=iol_geometry[\"SE\"],\n",
    ")\n",
    "iol_magnification_data = MagnificationData()\n",
    "(\n",
    "    iol_magnification_data.lens_back_curvature,\n",
    "    iol_magnification_data.glasses_curvature,\n",
    ") = iol_eye.adjust_lens_back(iol_geometry[\"SE\"], update_model=True)\n",
    "\n",
    "# Define an eye model with a phakic IOL\n",
    "piol_eye = fundscale.Eye(\n",
    "    name=\"pIOL\",\n",
    "    geometry=piol_geometry,\n",
    "    NType=\"Navarro\",\n",
    "    refraction=piol_geometry[\"SE\"],\n",
    "    pIOL=piol_data,\n",
    ")\n",
    "piol_magnification_data = MagnificationData()\n",
    "(\n",
    "    piol_magnification_data.lens_back_curvature,\n",
    "    piol_magnification_data.glasses_curvature,\n",
    ") = piol_eye.adjust_lens_back(piol_geometry[\"SE\"], update_model=True)"
   ]
  },
  {
   "cell_type": "markdown",
   "metadata": {
    "collapsed": false
   },
   "source": [
    "## Magnification calculation\n",
    "\n",
    "Calculate the magnifications for the different eye models."
   ]
  },
  {
   "cell_type": "code",
   "execution_count": 10,
   "metadata": {
    "ExecuteTime": {
     "end_time": "2024-01-03T12:37:22.014486100Z",
     "start_time": "2024-01-03T12:37:21.433214400Z"
    },
    "execution": {
     "iopub.execute_input": "2024-01-04T10:33:52.277965Z",
     "iopub.status.busy": "2024-01-04T10:33:52.276963Z",
     "iopub.status.idle": "2024-01-04T10:33:52.848699Z",
     "shell.execute_reply": "2024-01-04T10:33:52.848699Z"
    }
   },
   "outputs": [
    {
     "name": "stdout",
     "output_type": "stream",
     "text": [
      "Magnification phakic eye model        : 1.69\n",
      "Necessary correction at camera phakic : -0.25 D\n",
      "Eye model                             : phakic\n"
     ]
    }
   ],
   "source": [
    "(\n",
    "    phakic_magnification_data.magnification,\n",
    "    phakic_magnification_data.glasses_power,\n",
    "    phakic_magnification_data.eye_model,\n",
    ") = fundscale.calculate_magnification(phakic_eye, camera)\n",
    "\n",
    "print(phakic_magnification_data)"
   ]
  },
  {
   "cell_type": "code",
   "execution_count": 15,
   "metadata": {},
   "outputs": [
    {
     "data": {
      "image/png": "[encoded data removed]",
      "text/latex": [
       "$\\displaystyle 4.44854047094527$"
      ],
      "text/plain": [
       "4.44854047094527"
      ]
     },
     "execution_count": 15,
     "metadata": {},
     "output_type": "execute_result"
    }
   ],
   "source": [
    "phakic_eye.geometry[\"R_lensB\"] * 1000"
   ]
  },
  {
   "cell_type": "code",
   "execution_count": 6,
   "metadata": {
    "ExecuteTime": {
     "end_time": "2024-01-03T12:37:22.627913300Z",
     "start_time": "2024-01-03T12:37:22.015485300Z"
    },
    "execution": {
     "iopub.execute_input": "2024-01-04T10:33:52.850714Z",
     "iopub.status.busy": "2024-01-04T10:33:52.850714Z",
     "iopub.status.idle": "2024-01-04T10:33:53.445261Z",
     "shell.execute_reply": "2024-01-04T10:33:53.445261Z"
    }
   },
   "outputs": [
    {
     "name": "stdout",
     "output_type": "stream",
     "text": [
      "Magnification phakic eye model        : 1.54\n",
      "Necessary correction at camera phakic : 0.00 D\n",
      "Eye model                             : IOL\n"
     ]
    }
   ],
   "source": [
    "(\n",
    "    iol_magnification_data.magnification,\n",
    "    iol_magnification_data.glasses_power,\n",
    "    iol_magnification_data.eye_model,\n",
    ") = fundscale.calculate_magnification(iol_eye, camera)\n",
    "\n",
    "print(iol_magnification_data)"
   ]
  },
  {
   "cell_type": "code",
   "execution_count": 7,
   "metadata": {
    "ExecuteTime": {
     "end_time": "2024-01-03T12:37:23.517665200Z",
     "start_time": "2024-01-03T12:37:22.626913Z"
    },
    "execution": {
     "iopub.execute_input": "2024-01-04T10:33:53.447284Z",
     "iopub.status.busy": "2024-01-04T10:33:53.447284Z",
     "iopub.status.idle": "2024-01-04T10:33:54.375949Z",
     "shell.execute_reply": "2024-01-04T10:33:54.375949Z"
    }
   },
   "outputs": [
    {
     "name": "stdout",
     "output_type": "stream",
     "text": [
      "Magnification phakic eye model        : 1.86\n",
      "Necessary correction at camera phakic : 0.00 D\n",
      "Eye model                             : pIOL\n"
     ]
    }
   ],
   "source": [
    "(\n",
    "    piol_magnification_data.magnification,\n",
    "    piol_magnification_data.glasses_power,\n",
    "    piol_magnification_data.eye_model,\n",
    ") = fundscale.calculate_magnification(piol_eye, camera)\n",
    "\n",
    "print(piol_magnification_data)"
   ]
  }
 ],
 "metadata": {
  "kernelspec": {
   "display_name": "base",
   "language": "python",
   "name": "python3"
  },
  "language_info": {
   "codemirror_mode": {
    "name": "ipython",
    "version": 3
   },
   "file_extension": ".py",
   "mimetype": "text/x-python",
   "name": "python",
   "nbconvert_exporter": "python",
   "pygments_lexer": "ipython3",
   "version": "3.11.5"
  }
 },
 "nbformat": 4,
 "nbformat_minor": 2
}
